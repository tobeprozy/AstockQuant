{
 "cells": [
  {
   "cell_type": "code",
   "execution_count": null,
   "metadata": {},
   "outputs": [
    {
     "name": "stderr",
     "output_type": "stream",
     "text": [
      "/home/zhiyuanzhang/miniconda3/envs/qbot/lib/python3.9/site-packages/pyfolio/pos.py:26: UserWarning: Module \"zipline.assets\" not found; mutltipliers will not be applied to position notionals.\n",
      "  warnings.warn(\n"
     ]
    }
   ],
   "source": [
    "\n",
    "import os\n",
    "import sys\n",
    "\n",
    "# 获取当前工作目录\n",
    "cur_dir = os.getcwd()\n",
    "# 假设你想添加的路径是当前目录的上一级目录\n",
    "root = os.path.abspath(os.path.join(cur_dir, '..'))\n",
    "\n",
    "# 将此路径添加到 sys.path 中，以便能够导入那里的模块\n",
    "if root not in sys.path:\n",
    "    sys.path.append(root)\n",
    "\n",
    "    \n",
    "from get_data.ak_data_fetch import FinancialDataFetcher\n",
    "import datetime\n",
    "import pandas as pd\n",
    "import pyfolio as pf\n",
    "import matplotlib.pyplot as plt\n",
    "import backtrader as bt  # 升级到最新版，pip install matplotlib==3.2.2\n",
    "\n",
    "from strategies.strategy import Strategy1,SmaCross,PairTradingStrategy,Strategy_MACD,Strategy_MCACD2\n",
    "\n",
    "from engines.backtrader_engine import BacktraderEngine, MultiSymbolBacktraderEngine\n",
    "import logging\n",
    "logging.basicConfig(level=logging.INFO, format='%(asctime)s - %(levelname)s - %(message)s')\n",
    "\n",
    "from visualizer import StockIndicatorsVisualizer2"
   ]
  },
  {
   "cell_type": "code",
   "execution_count": null,
   "metadata": {},
   "outputs": [],
   "source": [
    "# 定义一个字典，将中文列标题映射到英文列标题\n",
    "columns_mapping2 = {\n",
    "    '日期': 'date',\n",
    "    '开盘': 'open',\n",
    "    '收盘': 'close',\n",
    "    '最高': 'high',\n",
    "    '最低': 'low',\n",
    "    '成交量': 'vol',\n",
    "    '成交额': 'Turnover',\n",
    "    '振幅': 'Amplitude',\n",
    "    '涨跌幅': 'ChangePercent',\n",
    "    '涨跌额': 'ChangeAmount',\n",
    "    '换手率': 'TurnoverRate'\n",
    "}\n",
    "\n",
    "\n",
    "from utils.indictor import StockIndicatorsCalculator\n",
    "from adapters.akshare_provider import AkshareFundProvider\n",
    "import datetime\n",
    "\n",
    "if __name__ == \"__main__\":\n",
    "\n",
    "    provider = AkshareFundProvider()\n",
    "    # 设置日期范围\n",
    "    s_date = (datetime.datetime.now() - datetime.timedelta(days=1000)).strftime('%Y%m%d')\n",
    "    e_date = datetime.datetime.now().strftime('%Y%m%d')\n",
    "\n",
    "    df = provider.fetch(symbol=\"512200\", start_date=s_date, end_date=e_date)\n",
    "\n",
    "    # 如果是中文列，则进行重命名；否则跳过\n",
    "    if '日期' in df.columns:\n",
    "        df.rename(columns=columns_mapping2, inplace=True)\n",
    "\n",
    "    calculator = StockIndicatorsCalculator(df)\n",
    "    calculator.get_MA(5)\n",
    "    calculator.get_MA(10)\n",
    "    calculator.get_MA(20)\n",
    "    calculator.get_MA(150)\n",
    "    calculator.get_Vol_MA(5)\n",
    "    calculator.get_Vol_MA(10)\n",
    "\n",
    "    plotter = StockIndicatorsVisualizer2(calculator.data)\n",
    "    plotter.render_html()"
   ]
  }
 ],
 "metadata": {
  "kernelspec": {
   "display_name": "qbot",
   "language": "python",
   "name": "python3"
  },
  "language_info": {
   "codemirror_mode": {
    "name": "ipython",
    "version": 3
   },
   "file_extension": ".py",
   "mimetype": "text/x-python",
   "name": "python",
   "nbconvert_exporter": "python",
   "pygments_lexer": "ipython3",
   "version": "3.9.0"
  }
 },
 "nbformat": 4,
 "nbformat_minor": 2
}
